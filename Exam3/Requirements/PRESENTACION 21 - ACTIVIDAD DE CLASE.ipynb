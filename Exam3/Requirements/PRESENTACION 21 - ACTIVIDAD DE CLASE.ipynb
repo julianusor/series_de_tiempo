{
 "cells": [
  {
   "cell_type": "markdown",
   "id": "67ca16f9",
   "metadata": {},
   "source": [
    "# Presentación 21:\n",
    "\n",
    "En esta presentación veremos cómo ajustar un modelo $SARIMA(p, d, q)\\times(P, D, Q)_s$ con variables exógenas en Python."
   ]
  },
  {
   "cell_type": "markdown",
   "id": "72de8a44",
   "metadata": {},
   "source": [
    "## Actividad de clase:\n",
    "\n",
    "Considere las bases de datos del petróleo brent (con nombre __petroleo_brent_historico.csv__) y de la tasa representativa del mercado (__trm_historico.csv__) que se encuentran en la carpeta DATOS del Google Drive.\n",
    "\n",
    "1. Lea ambas bases de datos.\n",
    "\n",
    "2. Una las dos bases de datos en una sola BD.\n",
    "\n",
    "3. Realice un gráfico donde aparezcan ambas series de tiempo.\n",
    "\n",
    "4. Ajuste un modelo de regresión con los errores descritos por medio de un proceso ARIMA.\n",
    "\n",
    "5. Realice un diagnóstico del modelo y saque conclusiones.\n",
    "\n",
    "6. Divida la BD en dos conjuntos: entrenamiento y prueba.\n",
    "\n",
    "7. Encuentre un modelo con la función __auto_arima__.\n",
    "\n",
    "8. Realice un diagnóstico del modelo y saque conclusiones.\n",
    "\n"
   ]
  },
  {
   "cell_type": "code",
   "execution_count": null,
   "id": "d059f51f",
   "metadata": {},
   "outputs": [],
   "source": []
  }
 ],
 "metadata": {
  "kernelspec": {
   "display_name": "Python 3 (ipykernel)",
   "language": "python",
   "name": "python3"
  },
  "language_info": {
   "codemirror_mode": {
    "name": "ipython",
    "version": 3
   },
   "file_extension": ".py",
   "mimetype": "text/x-python",
   "name": "python",
   "nbconvert_exporter": "python",
   "pygments_lexer": "ipython3",
   "version": "3.9.12"
  }
 },
 "nbformat": 4,
 "nbformat_minor": 5
}
