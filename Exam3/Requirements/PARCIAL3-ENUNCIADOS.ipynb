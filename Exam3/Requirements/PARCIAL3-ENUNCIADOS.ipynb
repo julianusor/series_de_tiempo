{
 "cells": [
  {
   "cell_type": "markdown",
   "id": "4633b769",
   "metadata": {},
   "source": [
    "# Parcial 3"
   ]
  },
  {
   "cell_type": "markdown",
   "id": "ffd1d4e2",
   "metadata": {},
   "source": [
    "### Enunciados Punto 1\n",
    "\n",
    "Considere las bases de datos del petróleo brent (con nombre __petroleo_brent_historico.csv__) y de la tasa representativa del mercado (__trm_historico.csv__) que se encuentran en la carpeta DATOS del Google Drive.\n",
    "\n",
    "1. Lea ambas bases de datos.\n",
    "\n",
    "2. Una las dos bases de datos en una sola BD.\n",
    "\n",
    "3. Realice un gráfico donde aparezcan ambas series de tiempo.\n",
    "\n",
    "4. Ajuste un modelo de regresión con los errores descritos por medio de un proceso ARIMA.\n",
    "\n",
    "5. Realice un diagnóstico del modelo y saque conclusiones.\n",
    "\n",
    "6. Divida la BD en dos conjuntos: entrenamiento y prueba. Usted decide como dividir la serie de tiempo original en estos dos conjuntos.\n",
    "\n",
    "7. Encuentre un modelo con la función __auto_arima__ para la BD de entrenamiento considerando Brent como variable exógena para explicar la TRM.\n",
    "\n",
    "8. Realice un diagnóstico del modelo y saque conclusiones.\n",
    "\n",
    "9. Realice predicciones y compare con los valores de la BD de prueba, utilizando el RMSE y el MAPE.\n",
    "\n",
    "10. Saque conclusiones."
   ]
  },
  {
   "cell_type": "markdown",
   "id": "69807f06",
   "metadata": {},
   "source": [
    "### Enunciados Punto 2\n",
    "\n",
    "Vaya al sitio web del DANE haciendo click [AQUÍ](https://www.dane.gov.co/), luego hacer click en  __Estadísticas por tema__, busque en la columna de __Economía__ el item __Construcción__ y hacer click en __Estadísticas de cemento gris (ECG)__. Vaya a __Información adicional__ y hacer click en __Información Histórica__, luego hacer click en __Anexos__  de Septiembre en la tabla del Año 2022. En este punto se descarga automáticamente una base de datos en Excel\n",
    "\n",
    "1. Lea la BD que se encuentra en el  Anexo 1.\n",
    "\n",
    "2. Realice un gráfico de puntos XY de la serie Producción en Toneladas versus Despachos Nacionales en Toneladas.\n",
    "\n",
    "3. Realice un gráfico donde aparezcan ambas series de tiempo a lo largo del tiempo.\n",
    "\n",
    "4. Mediante la función __auto_arima__ ajuste un modelo SARIMA para ajustar la Producción utilizando como covariable los Despachos Nacionales.\n",
    "\n",
    "5. Realice un diagnóstico del modelo y saque conclusiones.\n",
    "\n",
    "6. Realice predicciones para un año.\n",
    "\n",
    "7. Saque conclusiones."
   ]
  },
  {
   "cell_type": "markdown",
   "id": "b00d8451",
   "metadata": {},
   "source": [
    "En la primera celda del trabajo ubique los nombres de los integrantes del grupo de la siguiente forma:\n",
    "\n",
    "- __Nombre y cédula del integrante 1 del grupo:__\n",
    "\n",
    "\n",
    "\n",
    "- __Nombre y cédula del integrante 2 del grupo:__\n"
   ]
  }
 ],
 "metadata": {
  "kernelspec": {
   "display_name": "Python 3 (ipykernel)",
   "language": "python",
   "name": "python3"
  },
  "language_info": {
   "codemirror_mode": {
    "name": "ipython",
    "version": 3
   },
   "file_extension": ".py",
   "mimetype": "text/x-python",
   "name": "python",
   "nbconvert_exporter": "python",
   "pygments_lexer": "ipython3",
   "version": "3.9.12"
  }
 },
 "nbformat": 4,
 "nbformat_minor": 5
}
