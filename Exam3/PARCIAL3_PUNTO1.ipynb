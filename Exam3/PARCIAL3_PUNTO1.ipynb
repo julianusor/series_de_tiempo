{
 "cells": [
  {
   "cell_type": "markdown",
   "id": "4633b769",
   "metadata": {},
   "source": [
    "# Parcial 3"
   ]
  },
  {
   "cell_type": "markdown",
   "id": "ffd1d4e2",
   "metadata": {},
   "source": [
    "### Enunciados Punto 1\n",
    "\n",
    "Considere las bases de datos del petróleo brent (con nombre __petroleo_brent_historico.csv__) y de la tasa representativa del mercado (__trm_historico.csv__) que se encuentran en la carpeta DATOS del Google Drive.\n",
    "\n",
    "1. Lea ambas bases de datos.\n",
    "\n",
    "2. Una las dos bases de datos en una sola BD.\n",
    "\n",
    "3. Realice un gráfico donde aparezcan ambas series de tiempo.\n",
    "\n",
    "4. Ajuste un modelo de regresión con los errores descritos por medio de un proceso ARIMA.\n",
    "\n",
    "5. Realice un diagnóstico del modelo y saque conclusiones.\n",
    "\n",
    "6. Divida la BD en dos conjuntos: entrenamiento y prueba. Usted decide como dividir la serie de tiempo original en estos dos conjuntos.\n",
    "\n",
    "7. Encuentre un modelo con la función __auto_arima__ para la BD de entrenamiento considerando Brent como variable exógena para explicar la TRM.\n",
    "\n",
    "8. Realice un diagnóstico del modelo y saque conclusiones.\n",
    "\n",
    "9. Realice predicciones y compare con los valores de la BD de prueba, utilizando el RMSE y el MAPE.\n",
    "\n",
    "10. Saque conclusiones."
   ]
  },
  {
   "cell_type": "markdown",
   "id": "ebee41cb-2a53-4512-8e0b-679830d4bc5e",
   "metadata": {},
   "source": [
    "## 1. Lea ambas bases de datos."
   ]
  },
  {
   "cell_type": "code",
   "execution_count": 372,
   "id": "a67ad45e-91bb-4097-b36f-c2fc09466778",
   "metadata": {},
   "outputs": [],
   "source": [
    "import pandas as pd\n",
    "import matplotlib.pyplot as plt\n",
    "from statsmodels.graphics.tsaplots import plot_acf, plot_pacf\n",
    "from statsmodels.tsa.stattools import adfuller\n",
    "from statsmodels.tsa.arima.model import ARIMA\n",
    "import statsmodels.api as sm\n",
    "\n",
    "from sklearn.metrics import mean_squared_error, mean_absolute_percentage_error\n",
    "import math\n",
    " \n",
    "import pmdarima as pmd\n",
    "from scipy import stats\n",
    "\n",
    "import warnings\n",
    "warnings.filterwarnings(\"ignore\")\n",
    "\n",
    "\n",
    "def printfuller(test_res):\n",
    "    \"\"\" null hypothesis is that a unit root is present in a time series sample.\"\"\"\n",
    "    print(\"Prueba de Dickey Fuller\")\n",
    "    print(f\"The test statistic: \\t {round(test_res[0], 10)}\")\n",
    "    print(f\"p-value: \\t \\t {test_res[1]}\")\n",
    "\n",
    "plt.style.use('fivethirtyeight')"
   ]
  },
  {
   "cell_type": "code",
   "execution_count": 373,
   "id": "c0754674-946b-49ec-b97a-e15489a07ad6",
   "metadata": {},
   "outputs": [],
   "source": [
    "df = pd.read_csv(\"../data/petroleo_brent_historico.csv\", decimal=\",\")\n",
    "dolar = pd.read_csv(\"../data/trm_historico.csv\")"
   ]
  },
  {
   "cell_type": "code",
   "execution_count": 374,
   "id": "a0cc800f-1455-4f42-8ff1-9d96c83a7760",
   "metadata": {},
   "outputs": [],
   "source": [
    "df.Fecha = pd.to_datetime(df.Fecha, format=\"%d.%m.%Y\")"
   ]
  },
  {
   "cell_type": "code",
   "execution_count": 375,
   "id": "7b56da5c-d8ba-4af9-8792-52c05f6ac5b1",
   "metadata": {},
   "outputs": [],
   "source": [
    "df[\"fecha\"] = df.Fecha\n",
    "df[\"petroleo\"] = df[\"Último\"]"
   ]
  },
  {
   "cell_type": "code",
   "execution_count": 376,
   "id": "12ef57d1-c7fc-47e9-890d-636f47c0d58a",
   "metadata": {},
   "outputs": [],
   "source": [
    "df = df[[\"fecha\", \"petroleo\"]]"
   ]
  },
  {
   "cell_type": "code",
   "execution_count": 377,
   "id": "d96c7b9e-b43e-437a-bf4e-736082759ed3",
   "metadata": {},
   "outputs": [
    {
     "data": {
      "text/html": [
       "<div>\n",
       "<style scoped>\n",
       "    .dataframe tbody tr th:only-of-type {\n",
       "        vertical-align: middle;\n",
       "    }\n",
       "\n",
       "    .dataframe tbody tr th {\n",
       "        vertical-align: top;\n",
       "    }\n",
       "\n",
       "    .dataframe thead th {\n",
       "        text-align: right;\n",
       "    }\n",
       "</style>\n",
       "<table border=\"1\" class=\"dataframe\">\n",
       "  <thead>\n",
       "    <tr style=\"text-align: right;\">\n",
       "      <th></th>\n",
       "      <th>fecha</th>\n",
       "      <th>petroleo</th>\n",
       "    </tr>\n",
       "  </thead>\n",
       "  <tbody>\n",
       "    <tr>\n",
       "      <th>0</th>\n",
       "      <td>2022-03-14</td>\n",
       "      <td>106.90</td>\n",
       "    </tr>\n",
       "    <tr>\n",
       "      <th>1</th>\n",
       "      <td>2022-03-11</td>\n",
       "      <td>112.67</td>\n",
       "    </tr>\n",
       "    <tr>\n",
       "      <th>2</th>\n",
       "      <td>2022-03-10</td>\n",
       "      <td>109.33</td>\n",
       "    </tr>\n",
       "    <tr>\n",
       "      <th>3</th>\n",
       "      <td>2022-03-09</td>\n",
       "      <td>111.14</td>\n",
       "    </tr>\n",
       "    <tr>\n",
       "      <th>4</th>\n",
       "      <td>2022-03-08</td>\n",
       "      <td>127.98</td>\n",
       "    </tr>\n",
       "  </tbody>\n",
       "</table>\n",
       "</div>"
      ],
      "text/plain": [
       "       fecha  petroleo\n",
       "0 2022-03-14    106.90\n",
       "1 2022-03-11    112.67\n",
       "2 2022-03-10    109.33\n",
       "3 2022-03-09    111.14\n",
       "4 2022-03-08    127.98"
      ]
     },
     "execution_count": 377,
     "metadata": {},
     "output_type": "execute_result"
    }
   ],
   "source": [
    "df.head()"
   ]
  },
  {
   "cell_type": "code",
   "execution_count": 378,
   "id": "49c767c3-beca-4447-9a07-0489d1a1f268",
   "metadata": {},
   "outputs": [
    {
     "data": {
      "text/html": [
       "<div>\n",
       "<style scoped>\n",
       "    .dataframe tbody tr th:only-of-type {\n",
       "        vertical-align: middle;\n",
       "    }\n",
       "\n",
       "    .dataframe tbody tr th {\n",
       "        vertical-align: top;\n",
       "    }\n",
       "\n",
       "    .dataframe thead th {\n",
       "        text-align: right;\n",
       "    }\n",
       "</style>\n",
       "<table border=\"1\" class=\"dataframe\">\n",
       "  <thead>\n",
       "    <tr style=\"text-align: right;\">\n",
       "      <th></th>\n",
       "      <th>VALOR</th>\n",
       "      <th>UNIDAD</th>\n",
       "      <th>VIGENCIADESDE</th>\n",
       "      <th>VIGENCIAHASTA</th>\n",
       "    </tr>\n",
       "  </thead>\n",
       "  <tbody>\n",
       "    <tr>\n",
       "      <th>0</th>\n",
       "      <td>2850.98</td>\n",
       "      <td>COP</td>\n",
       "      <td>09/10/2002</td>\n",
       "      <td>09/10/2002</td>\n",
       "    </tr>\n",
       "    <tr>\n",
       "      <th>1</th>\n",
       "      <td>2854.04</td>\n",
       "      <td>COP</td>\n",
       "      <td>10/10/2002</td>\n",
       "      <td>10/10/2002</td>\n",
       "    </tr>\n",
       "    <tr>\n",
       "      <th>2</th>\n",
       "      <td>2870.63</td>\n",
       "      <td>COP</td>\n",
       "      <td>11/10/2002</td>\n",
       "      <td>11/10/2002</td>\n",
       "    </tr>\n",
       "    <tr>\n",
       "      <th>3</th>\n",
       "      <td>2861.16</td>\n",
       "      <td>COP</td>\n",
       "      <td>12/10/2002</td>\n",
       "      <td>15/10/2002</td>\n",
       "    </tr>\n",
       "    <tr>\n",
       "      <th>4</th>\n",
       "      <td>2852.99</td>\n",
       "      <td>COP</td>\n",
       "      <td>16/10/2002</td>\n",
       "      <td>16/10/2002</td>\n",
       "    </tr>\n",
       "  </tbody>\n",
       "</table>\n",
       "</div>"
      ],
      "text/plain": [
       "     VALOR UNIDAD VIGENCIADESDE VIGENCIAHASTA\n",
       "0  2850.98    COP    09/10/2002    09/10/2002\n",
       "1  2854.04    COP    10/10/2002    10/10/2002\n",
       "2  2870.63    COP    11/10/2002    11/10/2002\n",
       "3  2861.16    COP    12/10/2002    15/10/2002\n",
       "4  2852.99    COP    16/10/2002    16/10/2002"
      ]
     },
     "execution_count": 378,
     "metadata": {},
     "output_type": "execute_result"
    }
   ],
   "source": [
    "dolar.head()"
   ]
  },
  {
   "cell_type": "code",
   "execution_count": 379,
   "id": "88ece6aa-deaf-4a77-85bc-d0fcaaf7ce16",
   "metadata": {},
   "outputs": [],
   "source": [
    "dolar[\"fecha\"] = pd.to_datetime(dolar.VIGENCIADESDE, format=\"%d/%m/%Y\")\n",
    "dolar[\"dolar\"] = dolar.VALOR"
   ]
  },
  {
   "cell_type": "code",
   "execution_count": 380,
   "id": "e885a1a4-11ff-4a41-a7ff-e320b69ac037",
   "metadata": {},
   "outputs": [],
   "source": [
    "dolar = dolar[[\"fecha\", \"dolar\"]]"
   ]
  },
  {
   "cell_type": "markdown",
   "id": "41079937-e69d-4038-9fe7-06893a3a2487",
   "metadata": {},
   "source": [
    "## 2. Una las dos bases de datos en una sola BD."
   ]
  },
  {
   "cell_type": "code",
   "execution_count": 381,
   "id": "d0c64099-1d79-4675-9173-f102390d9070",
   "metadata": {},
   "outputs": [],
   "source": [
    "df = df.merge(dolar, on='fecha', how='left')\n",
    "df = df.dropna()"
   ]
  },
  {
   "cell_type": "code",
   "execution_count": 382,
   "id": "cfeae1ad-c2c4-4917-9065-48ef03c9ae62",
   "metadata": {},
   "outputs": [],
   "source": [
    "df = df.sort_values(by=['fecha'])"
   ]
  },
  {
   "cell_type": "markdown",
   "id": "34449825-68fe-49fa-928d-d2990a96be91",
   "metadata": {},
   "source": [
    "## 3. Realice un gráfico donde aparezcan ambas series de tiempo."
   ]
  },
  {
   "cell_type": "code",
   "execution_count": 383,
   "id": "d0a2541c-229d-4fcc-bbfb-3f6a7ab09c39",
   "metadata": {},
   "outputs": [
    {
     "data": {
      "image/png": "[encoded data removed]",
      "text/plain": [
       "<Figure size 864x288 with 2 Axes>"
      ]
     },
     "metadata": {},
     "output_type": "display_data"
    }
   ],
   "source": [
    "fig, ax1 = plt.subplots(figsize=(12, 4))\n",
    "ax2 = ax1.twinx()\n",
    "ax1.plot(df.fecha, df.petroleo, color=\"black\", label=\"Petroleo en USD\")\n",
    "ax2.plot(df.fecha, df.dolar, color=\"red\", label=\"Dolar TRM\")\n",
    "ax1.legend(loc=\"upper left\")\n",
    "ax2.legend(loc=\"upper right\")\n",
    "plt.show()"
   ]
  },
  {
   "cell_type": "markdown",
   "id": "98ee98f6-0040-4f23-91e1-9e3256d5cce1",
   "metadata": {},
   "source": [
    "## 4. Ajuste un modelo de regresión con los errores descritos por medio de un proceso ARIMA."
   ]
  },
  {
   "cell_type": "code",
   "execution_count": 384,
   "id": "37c90079-473a-4066-aa01-365d647f60ac",
   "metadata": {},
   "outputs": [],
   "source": [
    "import statsmodels.api as sm"
   ]
  },
  {
   "cell_type": "code",
   "execution_count": 385,
   "id": "11bfbb5c-51bd-4dee-8fd0-2522ce58fe99",
   "metadata": {},
   "outputs": [],
   "source": [
    "df_2 = df.copy()"
   ]
  },
  {
   "cell_type": "code",
   "execution_count": 386,
   "id": "7a857376-8e12-4d73-ac9d-e150611f1e4a",
   "metadata": {},
   "outputs": [
    {
     "ename": "ValueError",
     "evalue": "Length of values (3633) does not match length of index (3637)",
     "output_type": "error",
     "traceback": [
      "\u001b[0;31m---------------------------------------------------------------------------\u001b[0m",
      "\u001b[0;31mValueError\u001b[0m                                Traceback (most recent call last)",
      "Input \u001b[0;32mIn [386]\u001b[0m, in \u001b[0;36m<cell line: 1>\u001b[0;34m()\u001b[0m\n\u001b[0;32m----> 1\u001b[0m \u001b[43mdf_2\u001b[49m\u001b[43m[\u001b[49m\u001b[38;5;124;43m\"\u001b[39;49m\u001b[38;5;124;43mtendencia\u001b[39;49m\u001b[38;5;124;43m\"\u001b[39;49m\u001b[43m]\u001b[49m \u001b[38;5;241m=\u001b[39m \u001b[38;5;28mlist\u001b[39m(\u001b[38;5;28mrange\u001b[39m(\u001b[38;5;241m0\u001b[39m, \u001b[38;5;241m3632\u001b[39m \u001b[38;5;241m+\u001b[39m \u001b[38;5;241m1\u001b[39m))\n",
      "File \u001b[0;32m~/.local/lib/python3.10/site-packages/pandas/core/frame.py:3655\u001b[0m, in \u001b[0;36mDataFrame.__setitem__\u001b[0;34m(self, key, value)\u001b[0m\n\u001b[1;32m   3652\u001b[0m     \u001b[38;5;28mself\u001b[39m\u001b[38;5;241m.\u001b[39m_setitem_array([key], value)\n\u001b[1;32m   3653\u001b[0m \u001b[38;5;28;01melse\u001b[39;00m:\n\u001b[1;32m   3654\u001b[0m     \u001b[38;5;66;03m# set column\u001b[39;00m\n\u001b[0;32m-> 3655\u001b[0m     \u001b[38;5;28;43mself\u001b[39;49m\u001b[38;5;241;43m.\u001b[39;49m\u001b[43m_set_item\u001b[49m\u001b[43m(\u001b[49m\u001b[43mkey\u001b[49m\u001b[43m,\u001b[49m\u001b[43m \u001b[49m\u001b[43mvalue\u001b[49m\u001b[43m)\u001b[49m\n",
      "File \u001b[0;32m~/.local/lib/python3.10/site-packages/pandas/core/frame.py:3832\u001b[0m, in \u001b[0;36mDataFrame._set_item\u001b[0;34m(self, key, value)\u001b[0m\n\u001b[1;32m   3822\u001b[0m \u001b[38;5;28;01mdef\u001b[39;00m \u001b[38;5;21m_set_item\u001b[39m(\u001b[38;5;28mself\u001b[39m, key, value) \u001b[38;5;241m-\u001b[39m\u001b[38;5;241m>\u001b[39m \u001b[38;5;28;01mNone\u001b[39;00m:\n\u001b[1;32m   3823\u001b[0m     \u001b[38;5;124;03m\"\"\"\u001b[39;00m\n\u001b[1;32m   3824\u001b[0m \u001b[38;5;124;03m    Add series to DataFrame in specified column.\u001b[39;00m\n\u001b[1;32m   3825\u001b[0m \n\u001b[0;32m   (...)\u001b[0m\n\u001b[1;32m   3830\u001b[0m \u001b[38;5;124;03m    ensure homogeneity.\u001b[39;00m\n\u001b[1;32m   3831\u001b[0m \u001b[38;5;124;03m    \"\"\"\u001b[39;00m\n\u001b[0;32m-> 3832\u001b[0m     value \u001b[38;5;241m=\u001b[39m \u001b[38;5;28;43mself\u001b[39;49m\u001b[38;5;241;43m.\u001b[39;49m\u001b[43m_sanitize_column\u001b[49m\u001b[43m(\u001b[49m\u001b[43mvalue\u001b[49m\u001b[43m)\u001b[49m\n\u001b[1;32m   3834\u001b[0m     \u001b[38;5;28;01mif\u001b[39;00m (\n\u001b[1;32m   3835\u001b[0m         key \u001b[38;5;129;01min\u001b[39;00m \u001b[38;5;28mself\u001b[39m\u001b[38;5;241m.\u001b[39mcolumns\n\u001b[1;32m   3836\u001b[0m         \u001b[38;5;129;01mand\u001b[39;00m value\u001b[38;5;241m.\u001b[39mndim \u001b[38;5;241m==\u001b[39m \u001b[38;5;241m1\u001b[39m\n\u001b[1;32m   3837\u001b[0m         \u001b[38;5;129;01mand\u001b[39;00m \u001b[38;5;129;01mnot\u001b[39;00m is_extension_array_dtype(value)\n\u001b[1;32m   3838\u001b[0m     ):\n\u001b[1;32m   3839\u001b[0m         \u001b[38;5;66;03m# broadcast across multiple columns if necessary\u001b[39;00m\n\u001b[1;32m   3840\u001b[0m         \u001b[38;5;28;01mif\u001b[39;00m \u001b[38;5;129;01mnot\u001b[39;00m \u001b[38;5;28mself\u001b[39m\u001b[38;5;241m.\u001b[39mcolumns\u001b[38;5;241m.\u001b[39mis_unique \u001b[38;5;129;01mor\u001b[39;00m \u001b[38;5;28misinstance\u001b[39m(\u001b[38;5;28mself\u001b[39m\u001b[38;5;241m.\u001b[39mcolumns, MultiIndex):\n",
      "File \u001b[0;32m~/.local/lib/python3.10/site-packages/pandas/core/frame.py:4535\u001b[0m, in \u001b[0;36mDataFrame._sanitize_column\u001b[0;34m(self, value)\u001b[0m\n\u001b[1;32m   4532\u001b[0m     \u001b[38;5;28;01mreturn\u001b[39;00m _reindex_for_setitem(value, \u001b[38;5;28mself\u001b[39m\u001b[38;5;241m.\u001b[39mindex)\n\u001b[1;32m   4534\u001b[0m \u001b[38;5;28;01mif\u001b[39;00m is_list_like(value):\n\u001b[0;32m-> 4535\u001b[0m     \u001b[43mcom\u001b[49m\u001b[38;5;241;43m.\u001b[39;49m\u001b[43mrequire_length_match\u001b[49m\u001b[43m(\u001b[49m\u001b[43mvalue\u001b[49m\u001b[43m,\u001b[49m\u001b[43m \u001b[49m\u001b[38;5;28;43mself\u001b[39;49m\u001b[38;5;241;43m.\u001b[39;49m\u001b[43mindex\u001b[49m\u001b[43m)\u001b[49m\n\u001b[1;32m   4536\u001b[0m \u001b[38;5;28;01mreturn\u001b[39;00m sanitize_array(value, \u001b[38;5;28mself\u001b[39m\u001b[38;5;241m.\u001b[39mindex, copy\u001b[38;5;241m=\u001b[39m\u001b[38;5;28;01mTrue\u001b[39;00m, allow_2d\u001b[38;5;241m=\u001b[39m\u001b[38;5;28;01mTrue\u001b[39;00m)\n",
      "File \u001b[0;32m~/.local/lib/python3.10/site-packages/pandas/core/common.py:557\u001b[0m, in \u001b[0;36mrequire_length_match\u001b[0;34m(data, index)\u001b[0m\n\u001b[1;32m    553\u001b[0m \u001b[38;5;124;03m\"\"\"\u001b[39;00m\n\u001b[1;32m    554\u001b[0m \u001b[38;5;124;03mCheck the length of data matches the length of the index.\u001b[39;00m\n\u001b[1;32m    555\u001b[0m \u001b[38;5;124;03m\"\"\"\u001b[39;00m\n\u001b[1;32m    556\u001b[0m \u001b[38;5;28;01mif\u001b[39;00m \u001b[38;5;28mlen\u001b[39m(data) \u001b[38;5;241m!=\u001b[39m \u001b[38;5;28mlen\u001b[39m(index):\n\u001b[0;32m--> 557\u001b[0m     \u001b[38;5;28;01mraise\u001b[39;00m \u001b[38;5;167;01mValueError\u001b[39;00m(\n\u001b[1;32m    558\u001b[0m         \u001b[38;5;124m\"\u001b[39m\u001b[38;5;124mLength of values \u001b[39m\u001b[38;5;124m\"\u001b[39m\n\u001b[1;32m    559\u001b[0m         \u001b[38;5;124mf\u001b[39m\u001b[38;5;124m\"\u001b[39m\u001b[38;5;124m(\u001b[39m\u001b[38;5;132;01m{\u001b[39;00m\u001b[38;5;28mlen\u001b[39m(data)\u001b[38;5;132;01m}\u001b[39;00m\u001b[38;5;124m) \u001b[39m\u001b[38;5;124m\"\u001b[39m\n\u001b[1;32m    560\u001b[0m         \u001b[38;5;124m\"\u001b[39m\u001b[38;5;124mdoes not match length of index \u001b[39m\u001b[38;5;124m\"\u001b[39m\n\u001b[1;32m    561\u001b[0m         \u001b[38;5;124mf\u001b[39m\u001b[38;5;124m\"\u001b[39m\u001b[38;5;124m(\u001b[39m\u001b[38;5;132;01m{\u001b[39;00m\u001b[38;5;28mlen\u001b[39m(index)\u001b[38;5;132;01m}\u001b[39;00m\u001b[38;5;124m)\u001b[39m\u001b[38;5;124m\"\u001b[39m\n\u001b[1;32m    562\u001b[0m     )\n",
      "\u001b[0;31mValueError\u001b[0m: Length of values (3633) does not match length of index (3637)"
     ]
    }
   ],
   "source": [
    "df_2[\"tendencia\"] = list(range(0, 3632 + 1))"
   ]
  },
  {
   "cell_type": "code",
   "execution_count": null,
   "id": "1726e8c0-23e1-47d7-a027-7fea19461257",
   "metadata": {},
   "outputs": [],
   "source": [
    "df_2[\"mes\"] = df.fecha.dt.month"
   ]
  },
  {
   "cell_type": "code",
   "execution_count": null,
   "id": "ab590f78-be40-4f98-8629-15d9e1ba1e41",
   "metadata": {},
   "outputs": [],
   "source": [
    "df_2[\"lag12\"] = df.dolar.diff(periods = 12)"
   ]
  },
  {
   "cell_type": "code",
   "execution_count": null,
   "id": "61962028-1acf-4766-993c-a3eb537d7988",
   "metadata": {},
   "outputs": [],
   "source": [
    "df_2 = df_2.dropna()\n",
    "mod_l = sm.OLS(df_2[[\"dolar\"]], df_2[[\"tendencia\", \"mes\", \"lag12\"]])\n",
    "\n",
    "res = mod_l.fit()\n",
    "\n",
    "print(res.summary())"
   ]
  },
  {
   "cell_type": "markdown",
   "id": "e2120b9d-fe6d-457b-9405-f69a0bf74316",
   "metadata": {},
   "source": [
    "**Se observa correlación entre el mes y la serie y no se presenta correlación de la serie con su valor 12 dias atras, por esta razon podria ser innecesario usar un Seasonal ARIMA.**"
   ]
  },
  {
   "cell_type": "code",
   "execution_count": null,
   "id": "aa531996-90cf-48e5-b518-cb766919e5f4",
   "metadata": {},
   "outputs": [],
   "source": [
    "fig, ax = plt.subplots(3,1,figsize=(7,15))\n",
    "fig.tight_layout(pad=2.5)\n",
    "df.dolar.plot(ax=ax[0], title = \"Serie de la TRM\", xlabel=\"\", color=\"black\")\n",
    "plot_acf(df.dolar, zero = False, title = \"Función de autocorrelación\", ax=ax[1])\n",
    "plot_pacf(df.dolar, method=\"ywm\", zero = False, title = \"Función de autocorrelación parcial\", ax=ax[2])\n",
    "fig.show()"
   ]
  },
  {
   "cell_type": "markdown",
   "id": "1b2986b0-b8c7-46f2-82e8-7f82be707d6e",
   "metadata": {},
   "source": [
    "Del gráfico de la serie de tiempo no se observa que sea estacionaria, procedemos a observar la función de autocorrelación la cual presenta un decaimiento demasiado lento, por lo cual nos da indicios de que debemos de realizar una diferenciación.\n",
    "\n",
    "Se realizará una prueba de Dickey-Fuller para verificar si es necesario realizar una diferenciación."
   ]
  },
  {
   "cell_type": "code",
   "execution_count": null,
   "id": "8358b43d-ac37-4270-8f5d-a4bed8c2b774",
   "metadata": {},
   "outputs": [],
   "source": [
    "test = adfuller(df.dolar)\n",
    "printfuller(test)"
   ]
  },
  {
   "cell_type": "markdown",
   "id": "aa068eaf-c5dd-497a-abea-7f43a78c5efc",
   "metadata": {},
   "source": [
    "Observando el p-valor = 0.8931232351189345 y con una significancia de $\\alpha = 0.05$ no se rechaza. Esto quiere decir que no hay estacionaridad en la serie, lo que nos indica que debemos realizar una diferenciación.\n",
    "\n",
    "Procedemos a diferenciar la serie. "
   ]
  },
  {
   "cell_type": "code",
   "execution_count": null,
   "id": "3ebfda64-80f6-4d56-8452-d82171e05d9c",
   "metadata": {},
   "outputs": [],
   "source": [
    "dolar_diff = df.dolar.diff()\n",
    "dolar_diff"
   ]
  },
  {
   "cell_type": "code",
   "execution_count": null,
   "id": "aed89a2c-de21-41f8-bd40-1b30a63feabe",
   "metadata": {},
   "outputs": [],
   "source": [
    "dolar_diff = dolar_diff[-dolar_diff.isna()]\n",
    "dolar_diff"
   ]
  },
  {
   "cell_type": "code",
   "execution_count": null,
   "id": "677d00f5-0503-4094-a8dc-386ebb971d55",
   "metadata": {},
   "outputs": [],
   "source": [
    "fig, ax = plt.subplots(3,1,figsize=(7,15))\n",
    "fig.tight_layout(pad=2.5)\n",
    "dolar_diff.plot(ax=ax[0], title = \"Serie de la TRM diferenciada con un dia\", xlabel=\"\", color=\"black\")\n",
    "plot_acf(dolar_diff, zero = False, title = \"Función de autocorrelación de la serie diferenciada\", ax=ax[1])\n",
    "plot_pacf(dolar_diff, method=\"ywm\", zero = False, title = \"Función de autocorrelación parcial de la serie diferenciada\", ax=ax[2])\n",
    "fig.show()"
   ]
  },
  {
   "cell_type": "code",
   "execution_count": null,
   "id": "b093d8a1-d4d4-4dc0-8858-91d40a1a3af5",
   "metadata": {},
   "outputs": [],
   "source": [
    "test = adfuller(dolar_diff)\n",
    "printfuller(test)"
   ]
  },
  {
   "cell_type": "markdown",
   "id": "6d1f4ce6-3b31-4f85-8e5f-41b48ca07a11",
   "metadata": {},
   "source": [
    "Observando el p-valor es menor a 0.05 por se rechaza la hipotesis nula. Esto quiere decir que hay estacionaridad en la serie con una diferenciación.\n",
    "\n",
    "Despues de realizar la diferenciación se ve que en la ACF hay un corte en el Lag 1 y en la PACF hay un corte en el Lag 1 o 2, se entrenaran varios modelos."
   ]
  },
  {
   "cell_type": "code",
   "execution_count": null,
   "id": "edb5c477-6a3d-4d1e-91ee-62472a51745b",
   "metadata": {},
   "outputs": [],
   "source": [
    "pdq_l = [(p, 1, q) for p in [0, 1, 2, 3] for q in [0, 1, 2, 3]] # ARIMA(0:3, 1, 0:3)"
   ]
  },
  {
   "cell_type": "code",
   "execution_count": null,
   "id": "050c8490-a2cf-43f4-84b6-976c96c1f7a1",
   "metadata": {},
   "outputs": [],
   "source": [
    "filas = []\n",
    "for order in pdq_l:\n",
    "    fit = ARIMA(df.dolar, order=order).fit()\n",
    "    aic = fit.aic\n",
    "    bic = fit.bic\n",
    "    filas.append([order, aic, bic])\n",
    "filas"
   ]
  },
  {
   "cell_type": "markdown",
   "id": "b0f9c1c2-041e-41ef-9fe7-4b8ab33ae771",
   "metadata": {},
   "source": [
    "Nos decidimos a usar el modelo p = 0, d = 1, q = 2 ya que es el que tiene mejor (AIC, BIC) y ademas no tiene muchos parametros."
   ]
  },
  {
   "cell_type": "code",
   "execution_count": null,
   "id": "a662aa7e-43db-4379-aaa6-e535b4eaec5d",
   "metadata": {},
   "outputs": [],
   "source": [
    "df = df.reset_index(drop = True)"
   ]
  },
  {
   "cell_type": "code",
   "execution_count": null,
   "id": "9d98da88-a6b8-4348-9321-fe97fad1ffee",
   "metadata": {},
   "outputs": [],
   "source": [
    "df"
   ]
  },
  {
   "cell_type": "code",
   "execution_count": null,
   "id": "dde1c916-cf3a-44bc-9a67-3f09c06efff2",
   "metadata": {},
   "outputs": [],
   "source": [
    "df_2[[\"dolar\"]], df_2[[\"tendencia\", \"mes\", \"lag12\"]]"
   ]
  },
  {
   "cell_type": "code",
   "execution_count": null,
   "id": "0ace2c60-a5b7-436c-a713-b508a1d7f4f0",
   "metadata": {},
   "outputs": [],
   "source": [
    "fit = ARIMA(df.dolar, order=(0,1,2)).fit()\n",
    "fit.summary()"
   ]
  },
  {
   "cell_type": "markdown",
   "id": "4efa0a53-bec8-49e5-a344-300dc944ca4f",
   "metadata": {},
   "source": [
    "## 5. Realice un diagnóstico del modelo y saque conclusiones."
   ]
  },
  {
   "cell_type": "code",
   "execution_count": null,
   "id": "8e996eb2-2e94-4408-a2c2-00e55d032979",
   "metadata": {},
   "outputs": [],
   "source": [
    "sm.stats.acorr_ljungbox(fit.resid, lags=range(1, 10 + 1), return_df=True)"
   ]
  },
  {
   "cell_type": "markdown",
   "id": "0ac058ce-b2d9-4364-8003-051cfa0d5a9f",
   "metadata": {},
   "source": [
    "Como se puede observar en la tabla anterior, para los lags de 1 al 10 no se rechaza la hipótesis nula, esto quiere decir que hay una evidencia fuerte en contra de la hipótesis alternativa de correlación entre los errores. "
   ]
  },
  {
   "cell_type": "code",
   "execution_count": null,
   "id": "8206d415-9044-4e68-8124-04f257a162fc",
   "metadata": {},
   "outputs": [],
   "source": [
    "fit.plot_diagnostics(figsize=(15,12))\n",
    "plt.show()"
   ]
  },
  {
   "cell_type": "markdown",
   "id": "91d2620b-0000-4394-9f1a-70dd7768f3bd",
   "metadata": {},
   "source": [
    "Como se puede ver en el **summary** del punto anterior el modelo no cumple la normalidad en los errores, se intentaron varios modelos pero ninguno cumple normalidad, a pesar de esto el modelo se puede usar pero teniendo en cuenta que no se deben realizar predicciones muchos dias hacia el futuro. "
   ]
  },
  {
   "cell_type": "markdown",
   "id": "86d34e53-344d-4ea4-a66d-939ea546eb84",
   "metadata": {},
   "source": [
    "## 6. Divida la BD en dos conjuntos: entrenamiento y prueba. Usted decide como dividir la serie de tiempo original en estos dos conjuntos.\n",
    "\n"
   ]
  },
  {
   "cell_type": "code",
   "execution_count": null,
   "id": "d182be61-ab5f-49e7-829c-6066e689ae9f",
   "metadata": {},
   "outputs": [],
   "source": [
    "df = df.dropna().reset_index(drop = True)"
   ]
  },
  {
   "cell_type": "markdown",
   "id": "c03c1b1c-70cc-4dbd-a1c3-622df54e13a0",
   "metadata": {},
   "source": [
    "Creo la variable **pct_change** que es el cambio porcentual entre el precio del dia actual vs el precio de hace 7 dias."
   ]
  },
  {
   "cell_type": "code",
   "execution_count": null,
   "id": "b0609b5d-2296-497b-a61d-d0f47018260b",
   "metadata": {},
   "outputs": [],
   "source": [
    "df[\"pct_change_1\"] = df.petroleo.pct_change(periods = 1)\n",
    "df[\"pct_change_2\"] = df.petroleo.pct_change(periods = 2)\n",
    "df[\"pct_change_3\"] = df.petroleo.pct_change(periods = 3)\n",
    "df[\"pct_change_4\"] = df.petroleo.pct_change(periods = 4)"
   ]
  },
  {
   "cell_type": "code",
   "execution_count": null,
   "id": "b8e844df-028b-4a5c-bceb-e156bba62d6e",
   "metadata": {},
   "outputs": [],
   "source": [
    "df = df.dropna().reset_index(drop = True)"
   ]
  },
  {
   "cell_type": "code",
   "execution_count": null,
   "id": "68a00340-b6ed-4e2a-83d5-8ee9cfd71ae6",
   "metadata": {},
   "outputs": [],
   "source": [
    "df_len = df.shape[0]\n",
    "df_len # numero de filas"
   ]
  },
  {
   "cell_type": "code",
   "execution_count": null,
   "id": "09543220-11a0-4cf5-9444-2c17e6ebd1f9",
   "metadata": {},
   "outputs": [],
   "source": [
    "train = df[:(df_len - 10)]\n",
    "test = df[(df_len - 10):]\n",
    "test"
   ]
  },
  {
   "cell_type": "code",
   "execution_count": null,
   "id": "df48ab7c-8ca3-4dea-b475-c6aeafa3581d",
   "metadata": {},
   "outputs": [],
   "source": [
    "test"
   ]
  },
  {
   "cell_type": "markdown",
   "id": "76be84ca-7d4f-441f-b89c-31880882163d",
   "metadata": {},
   "source": [
    "Utilizaremos solo 10 datos (2 semanas bursatiles) para el conjunto de prueba, ya que estos modelos usualmente no se usan para predecir muchos días en el futuro debido a la volatilidad, eventos inesperados y manipulación que estas series presentan.\n",
    "\n"
   ]
  },
  {
   "cell_type": "markdown",
   "id": "51b5a606-985b-49b5-a326-221742e3d606",
   "metadata": {},
   "source": [
    "Los datos de entrenamiento tienen 3623 filas (0 a 3622), los datos de prueba tienen 10 filas (3623 a 3632). "
   ]
  },
  {
   "cell_type": "markdown",
   "id": "ae25a262-5f7a-4ac7-87fb-7f4506743e8a",
   "metadata": {},
   "source": [
    "## 7. Encuentre un modelo con la función auto_arima para la BD de entrenamiento considerando Brent como variable exógena para explicar la TRM.\n"
   ]
  },
  {
   "cell_type": "code",
   "execution_count": null,
   "id": "77bbe53b-d40b-4e23-b6e9-6f722b887e14",
   "metadata": {},
   "outputs": [],
   "source": [
    "exo_var = [\"petroleo\", \"pct_change_1\", \"pct_change_2\", \"pct_change_3\", \"pct_change_4\"]\n",
    "fit_X = pmd.arima.auto_arima(y = train[\"dolar\"], X = train[exo_var])"
   ]
  },
  {
   "cell_type": "code",
   "execution_count": null,
   "id": "15882f11-0385-42a8-9056-0ae4bf524f58",
   "metadata": {},
   "outputs": [],
   "source": [
    "fit_X.summary()"
   ]
  },
  {
   "cell_type": "markdown",
   "id": "c8860141-d5f8-4eae-8f37-edbaeded89b6",
   "metadata": {},
   "source": [
    "Se puede observar que todas parecen ser significativas menos el cambio porcentual tres dias atras."
   ]
  },
  {
   "cell_type": "code",
   "execution_count": null,
   "id": "02b43283-2793-4919-ae07-4537e454ba09",
   "metadata": {},
   "outputs": [],
   "source": [
    "pred_X, pred_ci = fit_X.predict(n_periods=10, X = test[exo_var], return_conf_int=True)"
   ]
  },
  {
   "cell_type": "markdown",
   "id": "952ca333-aafa-4442-b8c3-c329fc9faa43",
   "metadata": {},
   "source": [
    "A continuación se observan los 7 valores al futuro predichos por el modelo."
   ]
  },
  {
   "cell_type": "code",
   "execution_count": null,
   "id": "cdb92635-d8fd-42f4-8151-bc5f32fd6829",
   "metadata": {},
   "outputs": [],
   "source": [
    "print(pred_X)"
   ]
  },
  {
   "cell_type": "markdown",
   "id": "0140eced-2b13-44d2-9061-8509b856e685",
   "metadata": {},
   "source": [
    "## 8. Realice un diagnóstico del modelo y saque conclusiones."
   ]
  },
  {
   "cell_type": "code",
   "execution_count": null,
   "id": "4aa94df7-e1e3-4bef-a052-dc2bed10106f",
   "metadata": {},
   "outputs": [],
   "source": [
    "fit_X.plot_diagnostics(figsize=(15,12))\n",
    "plt.show()"
   ]
  },
  {
   "cell_type": "code",
   "execution_count": null,
   "id": "f629b5dd-f898-4040-b297-b653c53c3200",
   "metadata": {},
   "outputs": [],
   "source": [
    "sm.stats.acorr_ljungbox(fit_X.resid())"
   ]
  },
  {
   "cell_type": "markdown",
   "id": "20104ae9-afa3-4b4f-a8e5-48c9d567140e",
   "metadata": {},
   "source": [
    "Como se puede observar en el punto anterior se rechaza la normalidad de los errores y ademas se observa que no hay correlacion entre los errores del Lag 1 al 10."
   ]
  },
  {
   "cell_type": "markdown",
   "id": "f7ed3400-51b9-4008-8cc7-851985cee181",
   "metadata": {},
   "source": [
    "## 9 . Realice predicciones y compare con los valores de la BD de prueba, utilizando el RMSE y el MAPE."
   ]
  },
  {
   "cell_type": "code",
   "execution_count": null,
   "id": "2c66ea99-19b2-43f1-ac26-aa71894e5f96",
   "metadata": {},
   "outputs": [],
   "source": [
    "pred_no_X = fit.predict(start = 3623, end = 3632)#3626 a 3632"
   ]
  },
  {
   "cell_type": "markdown",
   "id": "4c9ba795-dfc6-410a-b1c4-6d7779335924",
   "metadata": {},
   "source": [
    "- pred_X = Predicción hecha con variables exógenas.\n",
    "- pred_no_X = Predicción hecha sin variables exógenas\n",
    "- test.dolar = Valor real de la serie de prueba"
   ]
  },
  {
   "cell_type": "code",
   "execution_count": null,
   "id": "ddf37fbc-2a47-47a0-8200-d4c7e1d07578",
   "metadata": {},
   "outputs": [],
   "source": [
    "pred_no_X"
   ]
  },
  {
   "cell_type": "code",
   "execution_count": null,
   "id": "b17f31c7-3f16-48a7-8750-15ae9ea329b4",
   "metadata": {},
   "outputs": [],
   "source": [
    "pred_X"
   ]
  },
  {
   "cell_type": "code",
   "execution_count": null,
   "id": "b0519ed8-ba5e-4198-b13a-2efc4ee22538",
   "metadata": {},
   "outputs": [],
   "source": [
    "test.dolar"
   ]
  },
  {
   "cell_type": "code",
   "execution_count": null,
   "id": "b3be4a11-7b57-4989-88f7-ecc4a69f91d3",
   "metadata": {},
   "outputs": [],
   "source": [
    "MSE_X = mean_squared_error(test.dolar, pred_X)\n",
    "MSE_no_X = mean_squared_error(test.dolar, pred_no_X)\n",
    "MAPE_X = mean_absolute_percentage_error(test.dolar, pred_X)\n",
    "MAPE_no_X = mean_absolute_percentage_error(test.dolar, pred_no_X)\n",
    "\n",
    "print(\"Root Mean Square Error:\")\n",
    "print(\"- con variables exógenas \" + str(math.sqrt(MSE_X)))\n",
    "print(\"- sin variables exógenas \" + str(math.sqrt(MSE_no_X)))\n",
    "\n",
    "print(\"\\n\")\n",
    "print(\"MAPE:\")\n",
    "print(\"- con variables exógenas \" + str(MAPE_X*100))\n",
    "print(\"- sin variables exógenas \" + str(MAPE_no_X*100))"
   ]
  },
  {
   "cell_type": "markdown",
   "id": "beef863a-239f-438e-a7dc-bcf43d902e8d",
   "metadata": {},
   "source": [
    "## 10. Saque conclusiones."
   ]
  },
  {
   "cell_type": "markdown",
   "id": "190bcedd-a8f9-4f64-ad8c-86ec5300390a",
   "metadata": {},
   "source": [
    "Se puede ver que con el **modelo entrenado inicialmente (sin variables exógenas)** se obtiene un **RMSE de 95.31 y un MAPE de 2.16**, mientras que cuando se consideran las **variables exógenas** de precio de petróleo y cambio porcentual respecto a días anteriores, se observa un **RMSE de 61.20 y un MAPE de 1.17**, esto es una reducción en el error de **alrededor del 50%**.\n",
    "\n",
    "Si se tiene en cuenta que el dólar para la cola de esta base de datos toma valores alrededor de 3800, un RMSE de 61 se puede considerar aceptable o muy buena, depende mucho del uso que se le vaya a dar a estas predicciones. También se puede observar que agregar las variables exógenas si tuvo mejoría en las predicciones.\n",
    "\n"
   ]
  }
 ],
 "metadata": {
  "kernelspec": {
   "display_name": "Python 3 (ipykernel)",
   "language": "python",
   "name": "python3"
  },
  "language_info": {
   "codemirror_mode": {
    "name": "ipython",
    "version": 3
   },
   "file_extension": ".py",
   "mimetype": "text/x-python",
   "name": "python",
   "nbconvert_exporter": "python",
   "pygments_lexer": "ipython3",
   "version": "3.10.6"
  }
 },
 "nbformat": 4,
 "nbformat_minor": 5
}
